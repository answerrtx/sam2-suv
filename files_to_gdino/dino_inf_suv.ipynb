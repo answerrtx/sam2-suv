{
 "cells": [
  {
   "cell_type": "code",
   "execution_count": 9,
   "metadata": {},
   "outputs": [
    {
     "name": "stdout",
     "output_type": "stream",
     "text": [
      "final text_encoder_type: bert-base-uncased\n"
     ]
    },
    {
     "data": {
      "text/plain": [
       "True"
      ]
     },
     "execution_count": 9,
     "metadata": {},
     "output_type": "execute_result"
    }
   ],
   "source": [
    "from groundingdino.util.inference import load_model, load_image, predict, annotate\n",
    "import cv2\n",
    "import torch\n",
    "\n",
    "# Load the model\n",
    "model = load_model(\"groundingdino/config/GroundingDINO_SwinT_OGC.py\", \"/home/loulab/Documents/Weiying/GroundingDINO/weights/groundingdino_swint_ogc.pth\")\n",
    "\n",
    "# Define the image path and text prompt\n",
    "IMAGE_PATH = \"/home/loulab/Documents/Weiying/SRS319_crop/M-img-00001-00045.jpg\"\n",
    "\n",
    "TEXT_PROMPT = \"white .\"\n",
    "BOX_THRESHOLD = 0.05\n",
    "TEXT_THRESHOLD = 0.15\n",
    "\n",
    "# Load the image\n",
    "image_source, image = load_image(IMAGE_PATH)\n",
    "\n",
    "# Define margins\n",
    "left_margin = 30\n",
    "right_margin = 30\n",
    "top_margin = 50\n",
    "bottom_margin = 50\n",
    "\n",
    "# Ensure that margins do not exceed the image dimensions\n",
    "height, width = image.shape[1], image.shape[2]\n",
    "\n",
    "if (height > top_margin + bottom_margin) and (width > left_margin + right_margin):\n",
    "    # Crop the image with the defined margins\n",
    "    cropped_image = image[:, \n",
    "                          top_margin:height - bottom_margin,  # Crop top and bottom\n",
    "                          left_margin:width - right_margin    # Crop left and right\n",
    "                         ]\n",
    "else:\n",
    "    raise ValueError(\"Image dimensions are too small for the specified margins.\")\n",
    "\n",
    "# Predict boxes, logits, and phrases using the cropped image\n",
    "boxes, logits, phrases = predict(\n",
    "    model=model,\n",
    "    image=cropped_image,\n",
    "    caption=TEXT_PROMPT,\n",
    "    box_threshold=BOX_THRESHOLD,\n",
    "    text_threshold=TEXT_THRESHOLD\n",
    ")\n",
    "print(boxes)\n",
    "# Annotate the original image based on the predictions\n",
    "annotated_frame = annotate(image_source=image_source, boxes=boxes, logits=logits, phrases=phrases)\n",
    "\n",
    "# Save the annotated image\n",
    "cv2.imwrite(\"annotated_image.jpg\", annotated_frame)\n",
    "\n",
    "# Optionally, save the cropped image if needed\n",
    "# Convert cropped image back to numpy for saving\n",
    "cropped_image_np = cropped_image.permute(1, 2, 0).numpy()  # Change from CxHxW to HxWxC\n",
    "cv2.imwrite(\"cropped_image.jpg\", cropped_image_np)\n"
   ]
  }
 ],
 "metadata": {
  "kernelspec": {
   "display_name": "dino",
   "language": "python",
   "name": "python3"
  },
  "language_info": {
   "codemirror_mode": {
    "name": "ipython",
    "version": 3
   },
   "file_extension": ".py",
   "mimetype": "text/x-python",
   "name": "python",
   "nbconvert_exporter": "python",
   "pygments_lexer": "ipython3",
   "version": "3.12.7"
  },
  "orig_nbformat": 4
 },
 "nbformat": 4,
 "nbformat_minor": 2
}
